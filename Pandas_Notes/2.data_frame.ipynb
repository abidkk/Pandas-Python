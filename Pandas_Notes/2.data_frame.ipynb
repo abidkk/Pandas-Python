{
 "cells": [
  {
   "cell_type": "markdown",
   "metadata": {},
   "source": [
    "# Pandas : Data Frame"
   ]
  },
  {
   "cell_type": "code",
   "execution_count": 20,
   "metadata": {},
   "outputs": [],
   "source": [
    "import pandas as pd"
   ]
  },
  {
   "cell_type": "code",
   "execution_count": 21,
   "metadata": {},
   "outputs": [
    {
     "name": "stdout",
     "output_type": "stream",
     "text": [
      "   Roll Student_Name  Gender  Math_Marks  Physics_Marks\n",
      "0   201         Adam    Male          90             89\n",
      "1   202         John    male          93             90\n",
      "2   203         Zoha  female          92             88\n",
      "3   204         Mark    male          82             87\n",
      "4   205         Neha  female          87             91\n"
     ]
    }
   ],
   "source": [
    "dic1 = {\n",
    "    \"Roll\":[201,202,203,204,205],\n",
    "    \"Student_Name\":[\"Adam\", \"John\", \"Zoha\", \"Mark\", \"Neha\"],\n",
    "    \"Gender\":['Male', 'male','female', 'male', 'female'],\n",
    "    \"Math_Marks\":[90,93,92,82,87],\n",
    "    \"Physics_Marks\":[89,90,88,87,91]\n",
    "    }\n",
    "\n",
    "d1 = pd.DataFrame(dic1)\n",
    "print(d1)"
   ]
  },
  {
   "cell_type": "code",
   "execution_count": 22,
   "metadata": {},
   "outputs": [
    {
     "name": "stdout",
     "output_type": "stream",
     "text": [
      "0    Adam\n",
      "1    John\n",
      "2    Zoha\n",
      "3    Mark\n",
      "4    Neha\n",
      "Name: Student_Name, dtype: object\n"
     ]
    }
   ],
   "source": [
    "print(d1[\"Student_Name\"])"
   ]
  },
  {
   "cell_type": "code",
   "execution_count": 23,
   "metadata": {},
   "outputs": [
    {
     "name": "stdout",
     "output_type": "stream",
     "text": [
      "Empty DataFrame\n",
      "Columns: [Serial, Name, Sex, Math, Physics]\n",
      "Index: []\n"
     ]
    }
   ],
   "source": [
    "d1 = pd.DataFrame(dic1, columns=['Serial', 'Name', 'Sex', 'Math', 'Physics'])\n",
    "print(d1)"
   ]
  },
  {
   "cell_type": "code",
   "execution_count": null,
   "metadata": {},
   "outputs": [],
   "source": []
  }
 ],
 "metadata": {
  "kernelspec": {
   "display_name": "Py12",
   "language": "python",
   "name": "python3"
  },
  "language_info": {
   "codemirror_mode": {
    "name": "ipython",
    "version": 3
   },
   "file_extension": ".py",
   "mimetype": "text/x-python",
   "name": "python",
   "nbconvert_exporter": "python",
   "pygments_lexer": "ipython3",
   "version": "3.12.7"
  }
 },
 "nbformat": 4,
 "nbformat_minor": 2
}
